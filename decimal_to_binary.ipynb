{
 "cells": [
  {
   "cell_type": "markdown",
   "metadata": {},
   "source": [
    "challenge : convert an integer to binary format\n",
    "\n",
    "understanding how an integer is converted to binary : http://stackoverflow.com/questions/3528146/convert-decimal-to-binary-in-python"
   ]
  },
  {
   "cell_type": "code",
   "execution_count": 87,
   "metadata": {
    "collapsed": false
   },
   "outputs": [],
   "source": [
    "def decimalToBinary(N):\n",
    "    \"\"\" convert an integer to binary\"\"\"\n",
    "    n = N\n",
    "    x = 0 \n",
    "    exponential_list_number = []\n",
    "\n",
    "    # find all the exponential base two of the number \n",
    "\n",
    "    while n > 0:\n",
    "        while 2**(x+1) <= n:\n",
    "            x = x + 1\n",
    "        n = n - 2**x\n",
    "        exponential_list_number.append(x)  \n",
    "        x = 0\n",
    "        \n",
    "    # base on all exponential base two find the binary representation of the number\n",
    "    # damn it's on the other side\n",
    "\n",
    "    nb_elements = max(exponential_list_number) + 1\n",
    "    binary = [0] * nb_elements \n",
    "\n",
    "    for base_2_exponent in exponential_list_number:\n",
    "        base_2_binary_position = nb_elements - (base_2_exponent + 1)\n",
    "        binary[base_2_binary_position] = 1\n",
    "\n",
    "    return(binary)"
   ]
  },
  {
   "cell_type": "code",
   "execution_count": 88,
   "metadata": {
    "collapsed": false
   },
   "outputs": [
    {
     "data": {
      "text/plain": [
       "[1, 1, 1, 1, 1, 0, 1, 0, 0, 0]"
      ]
     },
     "execution_count": 88,
     "metadata": {},
     "output_type": "execute_result"
    }
   ],
   "source": [
    "# function execution\n",
    "decimalToBinary(1000)"
   ]
  }
 ],
 "metadata": {
  "kernelspec": {
   "display_name": "Python 3",
   "language": "python",
   "name": "python3"
  },
  "language_info": {
   "codemirror_mode": {
    "name": "ipython",
    "version": 3
   },
   "file_extension": ".py",
   "mimetype": "text/x-python",
   "name": "python",
   "nbconvert_exporter": "python",
   "pygments_lexer": "ipython3",
   "version": "3.5.2"
  }
 },
 "nbformat": 4,
 "nbformat_minor": 0
}
